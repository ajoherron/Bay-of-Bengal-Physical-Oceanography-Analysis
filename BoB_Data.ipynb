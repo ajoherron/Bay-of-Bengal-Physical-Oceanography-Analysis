{
 "cells": [
  {
   "cell_type": "markdown",
   "id": "d791cae1",
   "metadata": {},
   "source": [
    "# <center>Freshwater Transport by Eddies within the Bay of Bengal's Central Axis</center>\n",
    "<center>Alex Herron<center>\n",
    "<center>January 4th, 2022</center>"
   ]
  },
  {
   "cell_type": "markdown",
   "id": "e62519e3",
   "metadata": {},
   "source": [
    "# Contents\n",
    "0. [Downloading Data](#downloading_data)\n",
    "1. [Formatting Data](#formatting_data)\n",
    "2. [Preliminary Figures](#preliminary_figures)\n",
    "3. [Calculating Slopes for Each Cross-section](#calculating_slopes)\n",
    "4. [Converting Slopes to Sverdrups](#convert_to_sv)\n",
    "5. [Figure 3 (Scatter/line for both 10/15 Degree Bands)](#figure_3)\n",
    "6. [Multiple Linear Regression](#mlr)\n",
    "7. [Various Horizontal Mixing Coefficients](#various_kh)"
   ]
  },
  {
   "cell_type": "markdown",
   "id": "514cf7db",
   "metadata": {},
   "source": [
    "# 0. Downloading Data <a name=\"downloading_data\"></a>"
   ]
  },
  {
   "cell_type": "code",
   "execution_count": 1,
   "id": "d2949a76",
   "metadata": {},
   "outputs": [],
   "source": [
    "#Import packages\n",
    "import numpy as np\n",
    "import pandas as pd\n",
    "import matplotlib.pyplot as plt\n",
    "import math\n",
    "from sklearn.linear_model import LinearRegression\n",
    "from scipy.stats import linregress\n",
    "from sklearn.model_selection import train_test_split\n",
    "from sklearn import linear_model\n",
    "from sklearn import metrics\n",
    "from mpl_toolkits.mplot3d import Axes3D"
   ]
  },
  {
   "cell_type": "code",
   "execution_count": 2,
   "id": "8a82deab",
   "metadata": {},
   "outputs": [],
   "source": [
    "#Create list of file names for each available file\n",
    "f_2003 = \"BoB_band.2003.sub.dat\"\n",
    "f_2004 = \"BoB_band.2004.sub.dat\"\n",
    "f_2005 = \"BoB_band.2005.sub.dat\"\n",
    "f_2006 = \"BoB_band.2006.sub.dat\"\n",
    "f_2007 = \"BoB_band.2007.sub.dat\"\n",
    "f_2008 = \"BoB_band.2008.sub.dat\"\n",
    "f_2009 = \"BoB_band.2009.sub.dat\"\n",
    "f_2010 = \"BoB_band.2010.sub.dat\"\n",
    "f_2011 = \"BoB_band.2011.sub.dat\"\n",
    "f_2012 = \"BoB_band.2012.sub.dat\"\n",
    "f_2013 = \"BoB_band.2013.sub.dat\"\n",
    "f_2014 = \"BoB_band.2014.sub.dat\"\n",
    "f_2015 = \"BoB_band.2015.sub.dat\"\n",
    "f_2016 = \"BoB_band.2016.sub.dat\"\n",
    "f_2017 = \"BoB_band.2017.sub.dat\"\n",
    "f_2018 = \"BoB_band.2018.sub.dat\"\n",
    "\n",
    "file_list = [f_2003, f_2004, f_2005, f_2006, f_2007, f_2008, f_2009, f_2010, f_2011, f_2012,\n",
    "            f_2013, f_2014, f_2015, f_2016, f_2017, f_2018]"
   ]
  },
  {
   "cell_type": "code",
   "execution_count": 3,
   "id": "aef747e7",
   "metadata": {},
   "outputs": [],
   "source": [
    "#Create empty dataframe with column names\n",
    "column_names = ['depth', 'salinity', 'latitude', 'longitude', 'timestamp']\n",
    "df = pd.DataFrame(columns = column_names)"
   ]
  },
  {
   "cell_type": "code",
   "execution_count": 4,
   "id": "c9d57e88",
   "metadata": {},
   "outputs": [],
   "source": [
    "#Initialize frames (for concatenating dataframes from multiple files)\n",
    "frames = []\n",
    "\n",
    "#Loop through each file, extract depth, salinity, latitude, longitude, and timestamp\n",
    "for file in file_list:    \n",
    "    with open(file) as datFile:\n",
    "        dep = np.array([float(data.split()[0]) for data in datFile])\n",
    "    with open(file) as datFile:\n",
    "        sal = np.array([float(data.split()[2]) for data in datFile])    \n",
    "    with open(file) as datFile:\n",
    "        lat = np.array([float(data.split()[5]) for data in datFile])\n",
    "    with open(file) as datFile:\n",
    "        lon = np.array([float(data.split()[6]) for data in datFile])\n",
    "    with open(file) as datFile:\n",
    "        ts = np.array([data.split()[8] for data in datFile])\n",
    "    \n",
    "    #Create dataframe for each file/year\n",
    "    year = file[9:13]\n",
    "    y = year\n",
    "    \n",
    "    #Use dictionary for making dataframe\n",
    "    data = {'depth': dep, \n",
    "            'salinity': sal,\n",
    "            'latitude': lat,\n",
    "            'longitude': lon, \n",
    "            'timestamp': ts, \n",
    "            'year': y\n",
    "           }\n",
    "    \n",
    "    #Concatenate data frames to make complete dataframe\n",
    "    year = file[9:13]\n",
    "    df_i = pd.DataFrame(data)\n",
    "    frames.append(df_i)\n",
    "    df = pd.concat(frames)"
   ]
  },
  {
   "cell_type": "code",
   "execution_count": 5,
   "id": "2c75efd5",
   "metadata": {},
   "outputs": [
    {
     "data": {
      "text/html": [
       "<div>\n",
       "<style scoped>\n",
       "    .dataframe tbody tr th:only-of-type {\n",
       "        vertical-align: middle;\n",
       "    }\n",
       "\n",
       "    .dataframe tbody tr th {\n",
       "        vertical-align: top;\n",
       "    }\n",
       "\n",
       "    .dataframe thead th {\n",
       "        text-align: right;\n",
       "    }\n",
       "</style>\n",
       "<table border=\"1\" class=\"dataframe\">\n",
       "  <thead>\n",
       "    <tr style=\"text-align: right;\">\n",
       "      <th></th>\n",
       "      <th>depth</th>\n",
       "      <th>salinity</th>\n",
       "      <th>latitude</th>\n",
       "      <th>longitude</th>\n",
       "      <th>timestamp</th>\n",
       "      <th>year</th>\n",
       "    </tr>\n",
       "  </thead>\n",
       "  <tbody>\n",
       "    <tr>\n",
       "      <th>0</th>\n",
       "      <td>5.3</td>\n",
       "      <td>34.042</td>\n",
       "      <td>12.911</td>\n",
       "      <td>86.946</td>\n",
       "      <td>2900093.0223.20031219</td>\n",
       "      <td>2003</td>\n",
       "    </tr>\n",
       "    <tr>\n",
       "      <th>1</th>\n",
       "      <td>9.2</td>\n",
       "      <td>34.043</td>\n",
       "      <td>12.911</td>\n",
       "      <td>86.946</td>\n",
       "      <td>2900093.0223.20031219</td>\n",
       "      <td>2003</td>\n",
       "    </tr>\n",
       "    <tr>\n",
       "      <th>2</th>\n",
       "      <td>19.2</td>\n",
       "      <td>34.045</td>\n",
       "      <td>12.911</td>\n",
       "      <td>86.946</td>\n",
       "      <td>2900093.0223.20031219</td>\n",
       "      <td>2003</td>\n",
       "    </tr>\n",
       "    <tr>\n",
       "      <th>3</th>\n",
       "      <td>29.4</td>\n",
       "      <td>34.055</td>\n",
       "      <td>12.911</td>\n",
       "      <td>86.946</td>\n",
       "      <td>2900093.0223.20031219</td>\n",
       "      <td>2003</td>\n",
       "    </tr>\n",
       "    <tr>\n",
       "      <th>4</th>\n",
       "      <td>39.5</td>\n",
       "      <td>34.055</td>\n",
       "      <td>12.911</td>\n",
       "      <td>86.946</td>\n",
       "      <td>2900093.0223.20031219</td>\n",
       "      <td>2003</td>\n",
       "    </tr>\n",
       "    <tr>\n",
       "      <th>...</th>\n",
       "      <td>...</td>\n",
       "      <td>...</td>\n",
       "      <td>...</td>\n",
       "      <td>...</td>\n",
       "      <td>...</td>\n",
       "      <td>...</td>\n",
       "    </tr>\n",
       "    <tr>\n",
       "      <th>1119511</th>\n",
       "      <td>488.0</td>\n",
       "      <td>35.125</td>\n",
       "      <td>13.337</td>\n",
       "      <td>87.077</td>\n",
       "      <td>6901741.1845.20180302</td>\n",
       "      <td>2018</td>\n",
       "    </tr>\n",
       "    <tr>\n",
       "      <th>1119512</th>\n",
       "      <td>513.0</td>\n",
       "      <td>35.122</td>\n",
       "      <td>13.337</td>\n",
       "      <td>87.077</td>\n",
       "      <td>6901741.1845.20180302</td>\n",
       "      <td>2018</td>\n",
       "    </tr>\n",
       "    <tr>\n",
       "      <th>1119513</th>\n",
       "      <td>538.0</td>\n",
       "      <td>35.119</td>\n",
       "      <td>13.337</td>\n",
       "      <td>87.077</td>\n",
       "      <td>6901741.1845.20180302</td>\n",
       "      <td>2018</td>\n",
       "    </tr>\n",
       "    <tr>\n",
       "      <th>1119514</th>\n",
       "      <td>563.0</td>\n",
       "      <td>35.115</td>\n",
       "      <td>13.337</td>\n",
       "      <td>87.077</td>\n",
       "      <td>6901741.1845.20180302</td>\n",
       "      <td>2018</td>\n",
       "    </tr>\n",
       "    <tr>\n",
       "      <th>1119515</th>\n",
       "      <td>588.0</td>\n",
       "      <td>35.111</td>\n",
       "      <td>13.337</td>\n",
       "      <td>87.077</td>\n",
       "      <td>6901741.1845.20180302</td>\n",
       "      <td>2018</td>\n",
       "    </tr>\n",
       "  </tbody>\n",
       "</table>\n",
       "<p>1119516 rows × 6 columns</p>\n",
       "</div>"
      ],
      "text/plain": [
       "         depth  salinity  latitude  longitude              timestamp  year\n",
       "0          5.3    34.042    12.911     86.946  2900093.0223.20031219  2003\n",
       "1          9.2    34.043    12.911     86.946  2900093.0223.20031219  2003\n",
       "2         19.2    34.045    12.911     86.946  2900093.0223.20031219  2003\n",
       "3         29.4    34.055    12.911     86.946  2900093.0223.20031219  2003\n",
       "4         39.5    34.055    12.911     86.946  2900093.0223.20031219  2003\n",
       "...        ...       ...       ...        ...                    ...   ...\n",
       "1119511  488.0    35.125    13.337     87.077  6901741.1845.20180302  2018\n",
       "1119512  513.0    35.122    13.337     87.077  6901741.1845.20180302  2018\n",
       "1119513  538.0    35.119    13.337     87.077  6901741.1845.20180302  2018\n",
       "1119514  563.0    35.115    13.337     87.077  6901741.1845.20180302  2018\n",
       "1119515  588.0    35.111    13.337     87.077  6901741.1845.20180302  2018\n",
       "\n",
       "[1119516 rows x 6 columns]"
      ]
     },
     "execution_count": 5,
     "metadata": {},
     "output_type": "execute_result"
    }
   ],
   "source": [
    "#Need to change indexes for consistency \n",
    "df.index = (range(0, len(df)))\n",
    "df"
   ]
  },
  {
   "cell_type": "markdown",
   "id": "4dd080d0",
   "metadata": {},
   "source": [
    "# 1. Formatting Data <a name=\"formatting_data\"></a>"
   ]
  },
  {
   "cell_type": "code",
   "execution_count": 6,
   "id": "4db83b2b",
   "metadata": {},
   "outputs": [],
   "source": [
    "#Create column for months\n",
    "month = []\n",
    "for i in range(0, len(df)):\n",
    "    month.append(df['timestamp'][i][17:19])\n",
    "    \n",
    "df['month'] = month"
   ]
  },
  {
   "cell_type": "code",
   "execution_count": 7,
   "id": "8e8af49d",
   "metadata": {},
   "outputs": [],
   "source": [
    "#Create column for days\n",
    "day = []\n",
    "for i in range(0, len(df)):\n",
    "    day.append(df['timestamp'][i][19:21])\n",
    "    \n",
    "df['day'] = day"
   ]
  },
  {
   "cell_type": "code",
   "execution_count": null,
   "id": "04ed36b8",
   "metadata": {},
   "outputs": [],
   "source": [
    "#Create column for date\n",
    "date = []\n",
    "for i in range(0, len(df)):\n",
    "    date_i = str(df['year'][0]) + \"-\" + str(df['month'][0]) + \"-\" + str(df['day'][0])\n",
    "    date.append(date_i)\n",
    "df['date'] = date"
   ]
  },
  {
   "cell_type": "code",
   "execution_count": null,
   "id": "9163dca7",
   "metadata": {},
   "outputs": [],
   "source": [
    "#Create column for season\n",
    "season = []\n",
    "\n",
    "spring = ['03', '04', '05']\n",
    "summer = ['06', '07', '08']\n",
    "fall = ['09', '10', '11']\n",
    "winter = ['12', '01', '02']\n",
    "\n",
    "for i in range(0, len(month)):\n",
    "    if (month[i] in spring):\n",
    "        season.append('spring')\n",
    "    elif (month[i] in summer):\n",
    "        season.append('summer')\n",
    "    elif (month[i] in fall):\n",
    "        season.append('fall')\n",
    "    elif (month[i] in winter):\n",
    "        season.append('winter')\n",
    "        \n",
    "df['season'] = season"
   ]
  },
  {
   "cell_type": "code",
   "execution_count": null,
   "id": "f35bd4ab",
   "metadata": {},
   "outputs": [],
   "source": [
    "#Create column for freshwater\n",
    "freshwater = []\n",
    "\n",
    "for i in range(0, len(df['salinity'])):\n",
    "    freshwater.append(1000 - df['salinity'][i])\n",
    "    \n",
    "df['freshwater'] = freshwater"
   ]
  },
  {
   "cell_type": "code",
   "execution_count": null,
   "id": "1bd4dd0f",
   "metadata": {},
   "outputs": [],
   "source": [
    "#Make dataframe for longitude and latitude for multiple linear regression later on\n",
    "fw = df['freshwater']\n",
    "lat_lon = pd.concat([df['latitude'], df['longitude']], axis = 1)"
   ]
  },
  {
   "cell_type": "code",
   "execution_count": null,
   "id": "c2b2e2b1",
   "metadata": {},
   "outputs": [],
   "source": [
    "#Create dataframe for each season\n",
    "df_winter = df.loc[df['season'] == 'winter']\n",
    "df_spring = df.loc[df['season'] == 'spring']\n",
    "df_summer = df.loc[df['season'] == 'summer']\n",
    "df_fall = df.loc[df['season'] == 'fall']"
   ]
  },
  {
   "cell_type": "code",
   "execution_count": null,
   "id": "dcddb9a1",
   "metadata": {},
   "outputs": [],
   "source": [
    "#Create dataframe for each depth slab\n",
    "df_0_50 = df.loc[df['depth'] < 50]\n",
    "df_50_100 = df.loc[(df['depth'] >= 50) & (df['depth'] < 100)]\n",
    "df_100_150 = df.loc[(df['depth'] >= 100) & (df['depth'] < 150)]\n",
    "df_150_200 = df.loc[(df['depth'] >= 150) & (df['depth'] < 200)]\n",
    "df_200_250 = df.loc[(df['depth'] >= 200) & (df['depth'] < 250)]\n",
    "df_250_300 = df.loc[(df['depth'] >= 250) & (df['depth'] < 300)]\n",
    "df_0_300 = df.loc[df['depth'] < 300]"
   ]
  },
  {
   "cell_type": "code",
   "execution_count": null,
   "id": "13352faf",
   "metadata": {},
   "outputs": [],
   "source": [
    "#Create dataframe for latitude ranges\n",
    "df_lat10 = df.loc[(df['latitude'] >= 8) & (df['latitude'] <= 12)]\n",
    "df_lat15 = df.loc[(df['latitude'] >= 13) & (df['latitude'] <= 17)]"
   ]
  },
  {
   "cell_type": "markdown",
   "id": "919b349d",
   "metadata": {},
   "source": [
    "# 2. Preliminary Figures <a name=\"preliminary_figures\"></a>"
   ]
  },
  {
   "cell_type": "code",
   "execution_count": null,
   "id": "ca34d619",
   "metadata": {},
   "outputs": [],
   "source": [
    "#Figure 1\n",
    "plt.scatter(df['longitude'], df['latitude'], s = 0.01, c = 'red')\n",
    "plt.scatter(df_lat10['longitude'], df_lat10['latitude'], s = 0.01, c = 'blue')\n",
    "plt.scatter(df_lat15['longitude'], df_lat15['latitude'], s = 0.01, c = 'green')\n",
    "plt.grid()\n",
    "plt.title('Distribution of Argo floats 2003 - 2018')\n",
    "plt.xlabel('Longitude (degrees)')\n",
    "plt.ylabel('Latitude (degrees)')\n",
    "plt.legend()\n",
    "plt.gca().legend(('Bay of Bengal Band', '10 Degree Band', '15 Degree Band'))"
   ]
  },
  {
   "cell_type": "code",
   "execution_count": null,
   "id": "54e19c3e",
   "metadata": {},
   "outputs": [],
   "source": [
    "#Figure 2\n",
    "\n",
    "#Linear regression - predicting y from x\n",
    "x = df_0_300['latitude'].values.reshape(-1, 1)\n",
    "y = df_0_300['freshwater'].values.reshape(-1, 1)\n",
    "\n",
    "linear_regressor = LinearRegression()  # create object for the class\n",
    "linear_regressor.fit(x, y)  # perform linear regression\n",
    "y_pred = linear_regressor.predict(x)  # make predictions\n",
    "\n",
    "#Gather coefficient and intercept for line of best fit\n",
    "ols = linear_model.LinearRegression()\n",
    "model = ols.fit(x, y)\n",
    "coeff = model.coef_\n",
    "lat_coeff = str(coeff[0][0])[:10]\n",
    "intercept = str(model.intercept_[0])[:10]\n",
    "text = \"Line of best fit: y = \" + lat_coeff + \" * latitude + \" + intercept\n",
    "\n",
    "#Create scatterplot with line of best fit\n",
    "plt.scatter(x, y, s = 0.001)\n",
    "plt.plot(x, y_pred, color = 'red')\n",
    "plt.grid()\n",
    "plt.title('Bay of Bengal Band, Freshwater by Latitude, Annual, 0-300m')\n",
    "plt.xlabel('Latitude (Degrees North)')\n",
    "plt.ylabel('Freshwater (parts per thousand)')\n",
    "plt.text(5, 975, text)\n",
    "plt.show()"
   ]
  },
  {
   "cell_type": "markdown",
   "id": "204b5548",
   "metadata": {},
   "source": [
    "# 3. Calculating Slopes for Each Cross-section <a name=\"calculating_slopes\"></a>"
   ]
  },
  {
   "cell_type": "code",
   "execution_count": null,
   "id": "6cd59af7",
   "metadata": {},
   "outputs": [],
   "source": [
    "#General slope computation method\n",
    "x = df['latitude']\n",
    "y = df['freshwater']\n",
    "\n",
    "slope, intercept, r, p, stderr = linregress(x, y)\n",
    "\n",
    "print(f\"Slope: {slope}\")\n",
    "print(f\"Intercept: {intercept}\")\n",
    "print(f\"R: {r}\")\n",
    "print(f\"p-value: {p}\")\n",
    "print(f\"Standard Error: {stderr}\")"
   ]
  },
  {
   "cell_type": "code",
   "execution_count": null,
   "id": "46f4ca31",
   "metadata": {},
   "outputs": [],
   "source": [
    "#Create dataframes for latitude bands split by depth slabs\n",
    "\n",
    "#Latitude = 10 +/- 2 degree band\n",
    "df_lat10_0_300 = df_lat10.loc[df_lat10['depth'] < 300]\n",
    "df_lat10_0_50 = df_lat10.loc[df_lat10['depth'] < 50]\n",
    "df_lat10_50_100 = df_lat10.loc[(df_lat10['depth'] >= 50) & (df_lat10['depth'] < 100)]\n",
    "df_lat10_100_150 = df_lat10.loc[(df_lat10['depth'] >= 100) & (df_lat10['depth'] < 150)]\n",
    "df_lat10_150_200 = df_lat10.loc[(df_lat10['depth'] >= 150) & (df_lat10['depth'] < 200)]\n",
    "df_lat10_200_250 = df_lat10.loc[(df_lat10['depth'] >= 200) & (df_lat10['depth'] < 250)]\n",
    "df_lat10_250_300 = df_lat10.loc[(df_lat10['depth'] >= 250) & (df_lat10['depth'] < 300)]\n",
    "\n",
    "#Latitude = 15 +/- 2 degree band\n",
    "df_lat15_0_300 = df_lat15.loc[df_lat15['depth'] < 300]\n",
    "df_lat15_0_50 = df_lat15.loc[df_lat15['depth'] < 50]\n",
    "df_lat15_50_100 = df_lat15.loc[(df_lat15['depth'] >= 50) & (df_lat15['depth'] < 100)]\n",
    "df_lat15_100_150 = df_lat15.loc[(df_lat15['depth'] >= 100) & (df_lat15['depth'] < 150)]\n",
    "df_lat15_150_200 = df_lat15.loc[(df_lat15['depth'] >= 150) & (df_lat15['depth'] < 200)]\n",
    "df_lat15_200_250 = df_lat15.loc[(df_lat15['depth'] >= 200) & (df_lat15['depth'] < 250)]\n",
    "df_lat15_250_300 = df_lat15.loc[(df_lat15['depth'] >= 250) & (df_lat15['depth'] < 300)]"
   ]
  },
  {
   "cell_type": "markdown",
   "id": "454f0bd0",
   "metadata": {},
   "source": [
    "## Annual Slopes (North -> South)"
   ]
  },
  {
   "cell_type": "code",
   "execution_count": null,
   "id": "b2fe36e2",
   "metadata": {},
   "outputs": [],
   "source": [
    "#Create empty dataframe with column names\n",
    "depth_columns = ['direction', '0-300', '0-50', '50-100', '100-150', '150-200', '200-250', '250-300']\n",
    "season_rows = ['annual', 'fall', 'winter', 'spring', 'summer']\n",
    "df_15_s_flux = pd.DataFrame(np.empty((5,8)), columns = depth_columns, index = season_rows)\n",
    "df_10_s_flux = pd.DataFrame(np.empty((5,8)), columns = depth_columns, index = season_rows)"
   ]
  },
  {
   "cell_type": "code",
   "execution_count": null,
   "id": "53a1c02e",
   "metadata": {},
   "outputs": [],
   "source": [
    "#Get slopes for latitude = 10 +/-2 band (annual)\n",
    "df_lat10_depth = [df_lat10_0_300, df_lat10_0_50, df_lat10_50_100, df_lat10_100_150, df_lat10_150_200,\n",
    "                 df_lat10_200_250, df_lat10_250_300]\n",
    "\n",
    "lat10_annual_slopes = []\n",
    "lat10_data_num = []\n",
    "for depth_slab in df_lat10_depth:\n",
    "    df = depth_slab\n",
    "    x = df['latitude']\n",
    "    y = df['freshwater']\n",
    "    slope, intercept, r, p, stderr = linregress(x, y)\n",
    "    lat10_annual_slopes.append(slope)\n",
    "    lat10_data_num.append(len(x))\n",
    "    \n",
    "df_10_s_flux['direction'][0] = 180\n",
    "df_10_s_flux['0-300'][0] = lat10_annual_slopes[0]\n",
    "df_10_s_flux['0-50'][0] = lat10_annual_slopes[1]\n",
    "df_10_s_flux['50-100'][0] = lat10_annual_slopes[2]\n",
    "df_10_s_flux['100-150'][0] = lat10_annual_slopes[3]\n",
    "df_10_s_flux['150-200'][0] = lat10_annual_slopes[4]\n",
    "df_10_s_flux['200-250'][0] = lat10_annual_slopes[5]\n",
    "df_10_s_flux['250-300'][0] = lat10_annual_slopes[6]"
   ]
  },
  {
   "cell_type": "code",
   "execution_count": null,
   "id": "b1468bc6",
   "metadata": {},
   "outputs": [],
   "source": [
    "#Get slopes for latitude = 15 +/-2 band (annual)\n",
    "df_lat15_depth = [df_lat15_0_300, df_lat15_0_50, df_lat15_50_100, df_lat15_100_150, df_lat15_150_200,\n",
    "                 df_lat15_200_250, df_lat15_250_300]\n",
    "\n",
    "lat15_annual_slopes = []\n",
    "lat15_data_num = []\n",
    "for depth_slab in df_lat15_depth:\n",
    "    df = depth_slab\n",
    "    x = df['latitude']\n",
    "    y = df['freshwater']\n",
    "    slope, intercept, r, p, stderr = linregress(x, y)\n",
    "    lat15_annual_slopes.append(slope)\n",
    "    lat15_data_num.append(len(x))\n",
    "    \n",
    "df_15_s_flux['direction'][0] = 180\n",
    "df_15_s_flux['0-300'][0] = lat15_annual_slopes[0]\n",
    "df_15_s_flux['0-50'][0] = lat15_annual_slopes[1]\n",
    "df_15_s_flux['50-100'][0] = lat15_annual_slopes[2]\n",
    "df_15_s_flux['100-150'][0] = lat15_annual_slopes[3]\n",
    "df_15_s_flux['150-200'][0] = lat15_annual_slopes[4]\n",
    "df_15_s_flux['200-250'][0] = lat15_annual_slopes[5]\n",
    "df_15_s_flux['250-300'][0] = lat15_annual_slopes[6]"
   ]
  },
  {
   "cell_type": "markdown",
   "id": "6fa452a4",
   "metadata": {},
   "source": [
    "## Seasonal Slopes (North -> South)"
   ]
  },
  {
   "cell_type": "code",
   "execution_count": null,
   "id": "bc24b103",
   "metadata": {},
   "outputs": [],
   "source": [
    "#Create dataframe for cross-sections of season and depth for 10 degree latitude band\n",
    "#North-South slope\n",
    "\n",
    "season_list = ['fall', 'winter', 'spring', 'summer']\n",
    "\n",
    "for i in range(0, len(season_list)):\n",
    "    df_lat10_f = df_lat10.loc[df_lat10['season'] == season_list[i]]\n",
    "    df_lat10_f_0_300 = df_lat10_f.loc[df_lat10_f['depth'] < 300]\n",
    "    df_lat10_f_0_50 = df_lat10_f.loc[df_lat10_f['depth'] < 50]\n",
    "    df_lat10_f_50_100 = df_lat10_f.loc[(df_lat10_f['depth'] >= 50) & (df_lat10_f['depth'] < 100)]\n",
    "    df_lat10_f_100_150 = df_lat10_f.loc[(df_lat10_f['depth'] >= 100) & (df_lat10_f['depth'] < 150)]\n",
    "    df_lat10_f_150_200 = df_lat10_f.loc[(df_lat10_f['depth'] >= 150) & (df_lat10_f['depth'] < 200)]\n",
    "    df_lat10_f_200_250 = df_lat10_f.loc[(df_lat10_f['depth'] >= 200) & (df_lat10_f['depth'] < 250)]\n",
    "    df_lat10_f_250_300 = df_lat10_f.loc[(df_lat10_f['depth'] >= 250) & (df_lat10_f['depth'] < 300)]\n",
    "\n",
    "    #Get slopes for fall latitude = 10 +/-2 band (annual)\n",
    "    df_lat10_f_depth = [df_lat10_f_0_300, df_lat10_f_0_50, df_lat10_f_50_100, df_lat10_f_100_150, df_lat10_f_150_200,\n",
    "                     df_lat10_f_200_250, df_lat10_f_250_300]\n",
    "\n",
    "    lat10_f_slopes = []\n",
    "    lat10_f_data_num = []\n",
    "\n",
    "    df_lat10_f_depth[0]\n",
    "    for depth_slab in df_lat10_f_depth:\n",
    "        df = depth_slab\n",
    "        x = df['latitude']\n",
    "        y = df['freshwater']\n",
    "        slope, intercept, r, p, stderr = linregress(x, y)\n",
    "        lat10_f_slopes.append(slope)\n",
    "        lat10_f_data_num.append(len(x))\n",
    "\n",
    "    df_10_s_flux['direction'][i+1] = 180\n",
    "    df_10_s_flux['0-300'][i+1] = lat10_f_slopes[0]\n",
    "    df_10_s_flux['0-50'][i+1] = lat10_f_slopes[1]\n",
    "    df_10_s_flux['50-100'][i+1] = lat10_f_slopes[2]\n",
    "    df_10_s_flux['100-150'][i+1] = lat10_f_slopes[3]\n",
    "    df_10_s_flux['150-200'][i+1] = lat10_f_slopes[4]\n",
    "    df_10_s_flux['200-250'][i+1] = lat10_f_slopes[5]\n",
    "    df_10_s_flux['250-300'][i+1] = lat10_f_slopes[6]"
   ]
  },
  {
   "cell_type": "code",
   "execution_count": null,
   "id": "9ba3c8a4",
   "metadata": {},
   "outputs": [],
   "source": [
    "#Create dataframe for cross-sections of season and depth for 15 degree latitude band\n",
    "#North-South slope\n",
    "\n",
    "season_list = ['fall', 'winter', 'spring', 'summer']\n",
    "\n",
    "for i in range(0, len(season_list)):\n",
    "    df_lat15_i = df_lat15.loc[df_lat15['season'] == season_list[i]]\n",
    "    df_lat15_i_0_300 = df_lat15_i.loc[df_lat15_i['depth'] < 300]\n",
    "    df_lat15_i_0_50 = df_lat15_i.loc[df_lat15_i['depth'] < 50]\n",
    "    df_lat15_i_50_100 = df_lat15_i.loc[(df_lat15_i['depth'] >= 50) & (df_lat15_i['depth'] < 100)]\n",
    "    df_lat15_i_100_150 = df_lat15_i.loc[(df_lat15_i['depth'] >= 100) & (df_lat15_i['depth'] < 150)]\n",
    "    df_lat15_i_150_200 = df_lat15_i.loc[(df_lat15_i['depth'] >= 150) & (df_lat15_i['depth'] < 200)]\n",
    "    df_lat15_i_200_250 = df_lat15_i.loc[(df_lat15_i['depth'] >= 200) & (df_lat15_i['depth'] < 250)]\n",
    "    df_lat15_i_250_300 = df_lat15_i.loc[(df_lat15_i['depth'] >= 250) & (df_lat15_i['depth'] < 300)]\n",
    "\n",
    "    #Get seasonal slopes for 15 degree band\n",
    "    df_lat15_i_depth = [df_lat15_i_0_300, df_lat15_i_0_50, df_lat15_i_50_100, df_lat15_i_100_150, df_lat15_i_150_200,\n",
    "                     df_lat15_i_200_250, df_lat15_i_250_300]\n",
    "\n",
    "    lat15_i_slopes = []\n",
    "    lat15_i_data_num = []\n",
    "\n",
    "    df_lat15_i_depth[0]\n",
    "    for depth_slab in df_lat15_i_depth:\n",
    "        df = depth_slab\n",
    "        x = df['latitude']\n",
    "        y = df['freshwater']\n",
    "        slope, intercept, r, p, stderr = linregress(x, y)\n",
    "        lat15_i_slopes.append(slope)\n",
    "        lat15_i_data_num.append(len(x))\n",
    "\n",
    "    df_15_s_flux['direction'][i+1] = 180\n",
    "    df_15_s_flux['0-300'][i+1] = lat15_i_slopes[0]\n",
    "    df_15_s_flux['0-50'][i+1] = lat15_i_slopes[1]\n",
    "    df_15_s_flux['50-100'][i+1] = lat15_i_slopes[2]\n",
    "    df_15_s_flux['100-150'][i+1] = lat15_i_slopes[3]\n",
    "    df_15_s_flux['150-200'][i+1] = lat15_i_slopes[4]\n",
    "    df_15_s_flux['200-250'][i+1] = lat15_i_slopes[5]\n",
    "    df_15_s_flux['250-300'][i+1] = lat15_i_slopes[6]\n",
    "    \n",
    "df_15_s_flux"
   ]
  },
  {
   "cell_type": "markdown",
   "id": "506ea803",
   "metadata": {},
   "source": [
    "## Annual Slopes (East -> West)"
   ]
  },
  {
   "cell_type": "code",
   "execution_count": null,
   "id": "fd1a0cc5",
   "metadata": {},
   "outputs": [],
   "source": [
    "#Create empty dataframe with column names\n",
    "df_15_w_flux = pd.DataFrame(np.empty((5,8)), columns = depth_columns, index = season_rows)\n",
    "df_10_w_flux = pd.DataFrame(np.empty((5,8)), columns = depth_columns, index = season_rows)"
   ]
  },
  {
   "cell_type": "code",
   "execution_count": null,
   "id": "cac1b6fa",
   "metadata": {},
   "outputs": [],
   "source": [
    "#Get slopes for latitude = 10 +/-2 band (annual)\n",
    "df_lat10_depth = [df_lat10_0_300, df_lat10_0_50, df_lat10_50_100, df_lat10_100_150, df_lat10_150_200,\n",
    "                 df_lat10_200_250, df_lat10_250_300]\n",
    "\n",
    "lat10_annual_slopes = []\n",
    "lat10_data_num = []\n",
    "for depth_slab in df_lat10_depth:\n",
    "    df = depth_slab\n",
    "    x = df['longitude']\n",
    "    y = df['freshwater']\n",
    "    slope, intercept, r, p, stderr = linregress(x, y)\n",
    "    lat10_annual_slopes.append(slope)\n",
    "    lat10_data_num.append(len(x))\n",
    "    \n",
    "df_10_w_flux['direction'][0] = 270\n",
    "df_10_w_flux['0-300'][0] = lat10_annual_slopes[0]\n",
    "df_10_w_flux['0-50'][0] = lat10_annual_slopes[1]\n",
    "df_10_w_flux['50-100'][0] = lat10_annual_slopes[2]\n",
    "df_10_w_flux['100-150'][0] = lat10_annual_slopes[3]\n",
    "df_10_w_flux['150-200'][0] = lat10_annual_slopes[4]\n",
    "df_10_w_flux['200-250'][0] = lat10_annual_slopes[5]\n",
    "df_10_w_flux['250-300'][0] = lat10_annual_slopes[6]"
   ]
  },
  {
   "cell_type": "code",
   "execution_count": null,
   "id": "30377b86",
   "metadata": {},
   "outputs": [],
   "source": [
    "#Get slopes for latitude = 15 +/-2 band (annual)\n",
    "df_lat15_depth = [df_lat15_0_300, df_lat15_0_50, df_lat15_50_100, df_lat15_100_150, df_lat15_150_200,\n",
    "                 df_lat15_200_250, df_lat15_250_300]\n",
    "\n",
    "lat15_annual_slopes = []\n",
    "lat15_data_num = []\n",
    "for depth_slab in df_lat15_depth:\n",
    "    df = depth_slab\n",
    "    x = df['longitude']\n",
    "    y = df['freshwater']\n",
    "    slope, intercept, r, p, stderr = linregress(x, y)\n",
    "    lat15_annual_slopes.append(slope)\n",
    "    lat15_data_num.append(len(x))\n",
    "    \n",
    "df_15_w_flux['direction'][0] = 270\n",
    "df_15_w_flux['0-300'][0] = lat15_annual_slopes[0]\n",
    "df_15_w_flux['0-50'][0] = lat15_annual_slopes[1]\n",
    "df_15_w_flux['50-100'][0] = lat15_annual_slopes[2]\n",
    "df_15_w_flux['100-150'][0] = lat15_annual_slopes[3]\n",
    "df_15_w_flux['150-200'][0] = lat15_annual_slopes[4]\n",
    "df_15_w_flux['200-250'][0] = lat15_annual_slopes[5]\n",
    "df_15_w_flux['250-300'][0] = lat15_annual_slopes[6]"
   ]
  },
  {
   "cell_type": "markdown",
   "id": "1b548884",
   "metadata": {},
   "source": [
    "## Seasonal Slopes (East -> West)"
   ]
  },
  {
   "cell_type": "code",
   "execution_count": null,
   "id": "c8abaddc",
   "metadata": {},
   "outputs": [],
   "source": [
    "#Create dataframe for cross-sections of season and depth for 15 degree latitude band\n",
    "#East-West slope\n",
    "\n",
    "season_list = ['fall', 'winter', 'spring', 'summer']\n",
    "\n",
    "for i in range(0, len(season_list)):\n",
    "    df_lat10_f = df_lat10.loc[df_lat10['season'] == season_list[i]]\n",
    "    df_lat10_f_0_300 = df_lat10_f.loc[df_lat10_f['depth'] < 300]\n",
    "    df_lat10_f_0_50 = df_lat10_f.loc[df_lat10_f['depth'] < 50]\n",
    "    df_lat10_f_50_100 = df_lat10_f.loc[(df_lat10_f['depth'] >= 50) & (df_lat10_f['depth'] < 100)]\n",
    "    df_lat10_f_100_150 = df_lat10_f.loc[(df_lat10_f['depth'] >= 100) & (df_lat10_f['depth'] < 150)]\n",
    "    df_lat10_f_150_200 = df_lat10_f.loc[(df_lat10_f['depth'] >= 150) & (df_lat10_f['depth'] < 200)]\n",
    "    df_lat10_f_200_250 = df_lat10_f.loc[(df_lat10_f['depth'] >= 200) & (df_lat10_f['depth'] < 250)]\n",
    "    df_lat10_f_250_300 = df_lat10_f.loc[(df_lat10_f['depth'] >= 250) & (df_lat10_f['depth'] < 300)]\n",
    "\n",
    "    #Get slopes for fall latitude = 10 +/-2 band (annual)\n",
    "    df_lat10_f_depth = [df_lat10_f_0_300, df_lat10_f_0_50, df_lat10_f_50_100, df_lat10_f_100_150, df_lat10_f_150_200,\n",
    "                     df_lat10_f_200_250, df_lat10_f_250_300]\n",
    "\n",
    "    lat10_f_slopes = []\n",
    "    lat10_f_data_num = []\n",
    "\n",
    "    df_lat10_f_depth[0]\n",
    "    for depth_slab in df_lat10_f_depth:\n",
    "        df = depth_slab\n",
    "        x = df['longitude']\n",
    "        y = df['freshwater']\n",
    "        slope, intercept, r, p, stderr = linregress(x, y)\n",
    "        lat10_f_slopes.append(slope)\n",
    "        lat10_f_data_num.append(len(x))\n",
    "\n",
    "    df_10_w_flux['direction'][i+1] = 270\n",
    "    df_10_w_flux['0-300'][i+1] = lat10_f_slopes[0]\n",
    "    df_10_w_flux['0-50'][i+1] = lat10_f_slopes[1]\n",
    "    df_10_w_flux['50-100'][i+1] = lat10_f_slopes[2]\n",
    "    df_10_w_flux['100-150'][i+1] = lat10_f_slopes[3]\n",
    "    df_10_w_flux['150-200'][i+1] = lat10_f_slopes[4]\n",
    "    df_10_w_flux['200-250'][i+1] = lat10_f_slopes[5]\n",
    "    df_10_w_flux['250-300'][i+1] = lat10_f_slopes[6]"
   ]
  },
  {
   "cell_type": "code",
   "execution_count": null,
   "id": "07812b8d",
   "metadata": {},
   "outputs": [],
   "source": [
    "season_list = ['fall', 'winter', 'spring', 'summer']\n",
    "\n",
    "for i in range(0, len(season_list)):\n",
    "    df_lat15_i = df_lat15.loc[df_lat15['season'] == season_list[i]]\n",
    "    df_lat15_i_0_300 = df_lat15_i.loc[df_lat15_i['depth'] < 300]\n",
    "    df_lat15_i_0_50 = df_lat15_i.loc[df_lat15_i['depth'] < 50]\n",
    "    df_lat15_i_50_100 = df_lat15_i.loc[(df_lat15_i['depth'] >= 50) & (df_lat15_i['depth'] < 100)]\n",
    "    df_lat15_i_100_150 = df_lat15_i.loc[(df_lat15_i['depth'] >= 100) & (df_lat15_i['depth'] < 150)]\n",
    "    df_lat15_i_150_200 = df_lat15_i.loc[(df_lat15_i['depth'] >= 150) & (df_lat15_i['depth'] < 200)]\n",
    "    df_lat15_i_200_250 = df_lat15_i.loc[(df_lat15_i['depth'] >= 200) & (df_lat15_i['depth'] < 250)]\n",
    "    df_lat15_i_250_300 = df_lat15_i.loc[(df_lat15_i['depth'] >= 250) & (df_lat15_i['depth'] < 300)]\n",
    "\n",
    "    #Get seasonal slopes for 15 degree band\n",
    "    df_lat15_i_depth = [df_lat15_i_0_300, df_lat15_i_0_50, df_lat15_i_50_100, df_lat15_i_100_150, df_lat15_i_150_200,\n",
    "                     df_lat15_i_200_250, df_lat15_i_250_300]\n",
    "\n",
    "    lat15_i_slopes = []\n",
    "    lat15_i_data_num = []\n",
    "\n",
    "    df_lat15_i_depth[0]\n",
    "    for depth_slab in df_lat15_i_depth:\n",
    "        df = depth_slab\n",
    "        x = df['longitude']\n",
    "        y = df['freshwater']\n",
    "        slope, intercept, r, p, stderr = linregress(x, y)\n",
    "        lat15_i_slopes.append(slope)\n",
    "        lat15_i_data_num.append(len(x))\n",
    "\n",
    "    df_15_w_flux['direction'][i+1] = 270\n",
    "    df_15_w_flux['0-300'][i+1] = lat15_i_slopes[0]\n",
    "    df_15_w_flux['0-50'][i+1] = lat15_i_slopes[1]\n",
    "    df_15_w_flux['50-100'][i+1] = lat15_i_slopes[2]\n",
    "    df_15_w_flux['100-150'][i+1] = lat15_i_slopes[3]\n",
    "    df_15_w_flux['150-200'][i+1] = lat15_i_slopes[4]\n",
    "    df_15_w_flux['200-250'][i+1] = lat15_i_slopes[5]\n",
    "    df_15_w_flux['250-300'][i+1] = lat15_i_slopes[6]"
   ]
  },
  {
   "cell_type": "markdown",
   "id": "ea39692b",
   "metadata": {},
   "source": [
    "## Annual Slopes (Southwest)"
   ]
  },
  {
   "cell_type": "code",
   "execution_count": null,
   "id": "ed2ecc25",
   "metadata": {},
   "outputs": [],
   "source": [
    "#Create empty dataframe with column names\n",
    "df_15_sw_flux = pd.DataFrame(np.empty((5,8)), columns = depth_columns, index = season_rows)\n",
    "df_10_sw_flux = pd.DataFrame(np.empty((5,8)), columns = depth_columns, index = season_rows)"
   ]
  },
  {
   "cell_type": "code",
   "execution_count": null,
   "id": "8818953f",
   "metadata": {},
   "outputs": [],
   "source": [
    "#Calculate vector sums and angles for 10 degree band\n",
    "for i in range(0, 5):\n",
    "    df_10_sw_flux['0-300'][i] = (df_10_s_flux['0-300'][i]**2 + df_10_w_flux['0-300'][i]**2)**(1/2)\n",
    "    df_10_sw_flux['direction'][i] = math.degrees(np.arctan(df_10_w_flux['0-300'][i] / df_10_s_flux['0-300'][i])) + 180\n",
    "    df_10_sw_flux['0-50'][i] = (df_10_s_flux['0-50'][i]**2 + df_10_w_flux['0-50'][i]**2)**(1/2)\n",
    "    df_10_sw_flux['50-100'][i] = (df_10_s_flux['50-100'][i]**2 + df_10_w_flux['50-100'][i]**2)**(1/2)\n",
    "    df_10_sw_flux['100-150'][i] = (df_10_s_flux['100-150'][i]**2 + df_10_w_flux['100-150'][i]**2)**(1/2)\n",
    "    df_10_sw_flux['150-200'][i] = (df_10_s_flux['150-200'][i]**2 + df_10_w_flux['150-200'][i]**2)**(1/2)\n",
    "    df_10_sw_flux['200-250'][i] = (df_10_s_flux['200-250'][i]**2 + df_10_w_flux['200-250'][i]**2)**(1/2)\n",
    "    df_10_sw_flux['250-300'][i] = (df_10_s_flux['250-300'][i]**2 + df_10_w_flux['250-300'][i]**2)**(1/2)"
   ]
  },
  {
   "cell_type": "code",
   "execution_count": null,
   "id": "4bc8b477",
   "metadata": {},
   "outputs": [],
   "source": [
    "#Calculate vector sums for 15 degree band\n",
    "for i in range(0, 5):\n",
    "    df_15_sw_flux['0-300'][i] = (df_15_s_flux['0-300'][i]**2 + df_15_w_flux['0-300'][i]**2)**(1/2)\n",
    "    \n",
    "    df_15_sw_flux['direction'][i] = math.degrees(np.arctan(df_15_w_flux['0-300'][i] / df_15_s_flux['0-300'][i])) + 180\n",
    "    \n",
    "    df_15_sw_flux['0-50'][i] = (df_15_s_flux['0-50'][i]**2 + df_15_w_flux['0-50'][i]**2)**(1/2)\n",
    "    df_15_sw_flux['50-100'][i] = (df_15_s_flux['50-100'][i]**2 + df_15_w_flux['50-100'][i]**2)**(1/2)\n",
    "    df_15_sw_flux['100-150'][i] = (df_15_s_flux['100-150'][i]**2 + df_15_w_flux['100-150'][i]**2)**(1/2)\n",
    "    df_15_sw_flux['150-200'][i] = (df_15_s_flux['150-200'][i]**2 + df_15_w_flux['150-200'][i]**2)**(1/2)\n",
    "    df_15_sw_flux['200-250'][i] = (df_15_s_flux['200-250'][i]**2 + df_15_w_flux['200-250'][i]**2)**(1/2)\n",
    "    df_15_sw_flux['250-300'][i] = (df_15_s_flux['250-300'][i]**2 + df_15_w_flux['250-300'][i]**2)**(1/2)"
   ]
  },
  {
   "cell_type": "markdown",
   "id": "bd1bb801",
   "metadata": {},
   "source": [
    "## Dataframes for 10 Degree Band (Slope)"
   ]
  },
  {
   "cell_type": "code",
   "execution_count": null,
   "id": "5b92bb2e",
   "metadata": {},
   "outputs": [],
   "source": [
    "df_10_s_flux"
   ]
  },
  {
   "cell_type": "code",
   "execution_count": null,
   "id": "04c0ff4d",
   "metadata": {},
   "outputs": [],
   "source": [
    "df_10_w_flux"
   ]
  },
  {
   "cell_type": "code",
   "execution_count": null,
   "id": "d3e69d70",
   "metadata": {},
   "outputs": [],
   "source": [
    "df_10_sw_flux"
   ]
  },
  {
   "cell_type": "markdown",
   "id": "da8ccb46",
   "metadata": {},
   "source": [
    "## Dataframes for 15 Degree Band (Slope)"
   ]
  },
  {
   "cell_type": "code",
   "execution_count": null,
   "id": "7e51cd64",
   "metadata": {},
   "outputs": [],
   "source": [
    "df_15_s_flux"
   ]
  },
  {
   "cell_type": "code",
   "execution_count": null,
   "id": "33a86c9d",
   "metadata": {},
   "outputs": [],
   "source": [
    "df_15_w_flux"
   ]
  },
  {
   "cell_type": "code",
   "execution_count": null,
   "id": "9a18fc5d",
   "metadata": {},
   "outputs": [],
   "source": [
    "df_15_sw_flux"
   ]
  },
  {
   "cell_type": "markdown",
   "id": "b524a61a",
   "metadata": {},
   "source": [
    "# 4. Convert values to Sverdrups <a name=\"convert_to_sv\"></a>"
   ]
  },
  {
   "cell_type": "markdown",
   "id": "3094f1cb",
   "metadata": {},
   "source": [
    "### Steps:\n",
    "1. m * (1 degree latitude / 111,111m) = dc/dy (units of 1/m)\n",
    "2. dc/dy * Kh = 1D flux (units of m/s)\n",
    "3. 1D flux * depth * width = 3D flux (units of m^3/s)\n",
    "4. 3D flux / 1,000,000 = 3D flux (units of Sv = 1,000,000 m^3/s)"
   ]
  },
  {
   "cell_type": "code",
   "execution_count": null,
   "id": "45852484",
   "metadata": {},
   "outputs": [],
   "source": [
    "depth = 300\n",
    "width = 437157\n",
    "lat_conv = 111111\n",
    "Kh = 1000\n",
    "sv_conv = 1000000\n",
    "\n",
    "m_to_sv_factor = (Kh * width * depth) / (lat_conv * sv_conv)\n",
    "print(f\"To convert slopes to flow rates (using Kh = 1,000 m^2/s), multiply slope by {m_to_sv_factor}\")"
   ]
  },
  {
   "cell_type": "code",
   "execution_count": null,
   "id": "819a8172",
   "metadata": {},
   "outputs": [],
   "source": [
    "df_10_s_flux"
   ]
  },
  {
   "cell_type": "code",
   "execution_count": null,
   "id": "8176e24c",
   "metadata": {},
   "outputs": [],
   "source": [
    "depth_slabs = list(df_10_s_flux.columns)[1:]\n",
    "\n",
    "for slab in depth_slabs:\n",
    "    df_10_s_flux[slab] = df_10_s_flux[slab].apply(lambda x: x * m_to_sv_factor)\n",
    "    df_10_s_sv = df_10_s_flux\n",
    "    \n",
    "    df_10_w_flux[slab] = df_10_w_flux[slab].apply(lambda x: x * m_to_sv_factor)\n",
    "    df_10_w_sv = df_10_w_flux\n",
    "    \n",
    "    df_10_sw_flux[slab] = df_10_sw_flux[slab].apply(lambda x: x * m_to_sv_factor)\n",
    "    df_10_sw_sv = df_10_sw_flux\n",
    "\n",
    "    df_15_s_flux[slab] = df_15_s_flux[slab].apply(lambda x: x * m_to_sv_factor)\n",
    "    df_15_s_sv = df_15_s_flux\n",
    "\n",
    "    df_15_w_flux[slab] = df_15_w_flux[slab].apply(lambda x: x * m_to_sv_factor)\n",
    "    df_15_w_sv = df_15_w_flux\n",
    "\n",
    "    df_15_sw_flux[slab] = df_15_sw_flux[slab].apply(lambda x: x * m_to_sv_factor)\n",
    "    df_15_sw_sv = df_15_sw_flux\n"
   ]
  },
  {
   "cell_type": "markdown",
   "id": "6b98b13a",
   "metadata": {},
   "source": [
    "# Dataframes for 10 Degree Band (Sv)"
   ]
  },
  {
   "cell_type": "code",
   "execution_count": null,
   "id": "69a9408b",
   "metadata": {},
   "outputs": [],
   "source": [
    "print(\"Southern Freshwater Flow Rate for 10 Degree Band:\")\n",
    "df_10_s_sv"
   ]
  },
  {
   "cell_type": "code",
   "execution_count": null,
   "id": "5dc321a6",
   "metadata": {},
   "outputs": [],
   "source": [
    "print(\"Western Freshwater Flow Rate for 10 Degree Band:\")\n",
    "df_10_w_sv"
   ]
  },
  {
   "cell_type": "code",
   "execution_count": null,
   "id": "87f04a7f",
   "metadata": {},
   "outputs": [],
   "source": [
    "print(\"Southwestern Freshwater Flow Rate for 10 Degree Band:\")\n",
    "df_10_sw_sv"
   ]
  },
  {
   "cell_type": "markdown",
   "id": "3b5b0b7a",
   "metadata": {},
   "source": [
    "# Dataframes for 15 Degree Band (Sv)"
   ]
  },
  {
   "cell_type": "code",
   "execution_count": null,
   "id": "d62ca008",
   "metadata": {},
   "outputs": [],
   "source": [
    "print(\"Southern Freshwater Flow Rate for 15 Degree Band:\")\n",
    "df_15_s_sv"
   ]
  },
  {
   "cell_type": "code",
   "execution_count": null,
   "id": "22c134ab",
   "metadata": {},
   "outputs": [],
   "source": [
    "print(\"Western Freshwater Flow Rate for 15 Degree Band:\")\n",
    "df_15_w_sv"
   ]
  },
  {
   "cell_type": "code",
   "execution_count": null,
   "id": "69188311",
   "metadata": {},
   "outputs": [],
   "source": [
    "print(\"Southwestern Freshwater Flow Rate for 15 Degree Band:\")\n",
    "df_15_sw_sv"
   ]
  },
  {
   "cell_type": "markdown",
   "id": "0eff292e",
   "metadata": {},
   "source": [
    "# 5. Figure 3 (Scatter/line for both 10/15 Degree Bands) <a name=\"figure_3\"></a>"
   ]
  },
  {
   "cell_type": "code",
   "execution_count": null,
   "id": "e298e08a",
   "metadata": {},
   "outputs": [],
   "source": [
    "#Create list of x-coordinates for plotting\n",
    "points_0 = np.array([0] * 7)\n",
    "points_1 = np.array([1] * 7)\n",
    "points_2 = np.array([2] * 7)\n",
    "points_3 = np.array([3] * 7)\n",
    "points_4 = np.array([4] * 7)\n",
    "\n",
    "#Create list of y-coordinates for 10 degree band\n",
    "annual_10 = np.array(df_10_sw_flux.loc['annual'])[1:]\n",
    "fall_10 = np.array(df_10_sw_flux.loc['fall'])[1:]\n",
    "winter_10 = np.array(df_10_sw_flux.loc['winter'])[1:]\n",
    "spring_10 = np.array(df_10_sw_flux.loc['spring'])[1:]\n",
    "summer_10 = np.array(df_10_sw_flux.loc['summer'])[1:]\n",
    "\n",
    "#Create list of y-coordinates for 15 degree band\n",
    "annual_15 = np.array(df_15_sw_flux.loc['annual'])[1:]\n",
    "fall_15 = np.array(df_15_sw_flux.loc['fall'])[1:]\n",
    "winter_15 = np.array(df_15_sw_flux.loc['winter'])[1:]\n",
    "spring_15 = np.array(df_15_sw_flux.loc['spring'])[1:]\n",
    "summer_15 = np.array(df_15_sw_flux.loc['summer'])[1:]"
   ]
  },
  {
   "cell_type": "code",
   "execution_count": null,
   "id": "d779c356",
   "metadata": {},
   "outputs": [],
   "source": [
    "#Figure 3 for 10 degree band (scatterplot)\n",
    "plt.scatter(points_0, annual_10)\n",
    "plt.scatter(points_1, fall_10)\n",
    "plt.scatter(points_2, winter_10)\n",
    "plt.scatter(points_3, spring_10)\n",
    "plt.scatter(points_4, summer_10)\n",
    "plt.xlabel('Season')\n",
    "plt.ylabel('Freshwater Flux (Sv)')\n",
    "plt.title('Southwestern Freshwater Flux for 10 Degree N Band')\n",
    "print(\"0 : Annual Average\\n1 : fall\\n2 : winter\\n3 : spring\\n4 : summer \")"
   ]
  },
  {
   "cell_type": "code",
   "execution_count": null,
   "id": "34a76bd4",
   "metadata": {},
   "outputs": [],
   "source": [
    "#Figure 3 for 15 degree band (connected lines)\n",
    "x_coord = np.arange(5)\n",
    "for i in range(0, 7):\n",
    "    annual = annual_10[i]\n",
    "    fall = fall_10[i]\n",
    "    winter = winter_10[i]\n",
    "    spring = spring_10[i]\n",
    "    summer = summer_10[i]\n",
    "    slab = (annual, fall, winter, spring, summer)\n",
    "    plt.plot(x_coord, slab)\n",
    "plt.xlabel('Season')\n",
    "plt.ylabel('Freshwater Flux (Sv)')\n",
    "plt.title('Southwestern Freshwater Flux for 15 Degree N Band')\n",
    "plt.gca().legend(('0-300m', '0-50m', '50-100m', '100-150m', '150-200m', '200-250m', '250-300m'))\n",
    "print(\"Key:\\n0 : Annual Average\\n1 : fall\\n2 : winter\\n3 : spring\\n4 : summer \")"
   ]
  },
  {
   "cell_type": "code",
   "execution_count": null,
   "id": "cb5f67ab",
   "metadata": {},
   "outputs": [],
   "source": [
    "#Figure 3 for 15 degree band (scatterplot)\n",
    "plt.scatter(points_0, annual_15)\n",
    "plt.scatter(points_1, fall_15)\n",
    "plt.scatter(points_2, winter_15)\n",
    "plt.scatter(points_3, spring_15)\n",
    "plt.scatter(points_4, summer_15)\n",
    "plt.xlabel('Season')\n",
    "plt.ylabel('Freshwater Flux (Sv)')\n",
    "plt.title('Southwestern Freshwater Flux for 15 Degree N Band')\n",
    "print(\"Key:\\n0 : Annual Average\\n1 : fall\\n2 : winter\\n3 : spring\\n4 : summer \")"
   ]
  },
  {
   "cell_type": "code",
   "execution_count": null,
   "id": "d2fc4c34",
   "metadata": {},
   "outputs": [],
   "source": [
    "#Figure 3 for 15 degree band (connected lines)\n",
    "for i in range(0, 7):\n",
    "    annual = annual_15[i]\n",
    "    fall = fall_15[i]\n",
    "    winter = winter_15[i]\n",
    "    spring = spring_15[i]\n",
    "    summer = summer_15[i]\n",
    "    slab = (annual, fall, winter, spring, summer)\n",
    "    plt.plot(x_coord, slab)\n",
    "plt.xlabel('Season')\n",
    "plt.ylabel('Freshwater Flux (Sv)')\n",
    "plt.title('Southwestern Freshwater Flux for 15 Degree N Band')\n",
    "plt.gca().legend(('0-300m', '0-50m', '50-100m', '100-150m', '150-200m', '200-250m', '250-300m'))\n",
    "print(\"Key:\\n0 : Annual Average\\n1 : fall\\n2 : winter\\n3 : spring\\n4 : summer \")"
   ]
  },
  {
   "cell_type": "markdown",
   "id": "a90e99e9",
   "metadata": {},
   "source": [
    "# 6. Multiple linear regression <a name=\"mlr\"></a>"
   ]
  },
  {
   "cell_type": "code",
   "execution_count": null,
   "id": "8e290810",
   "metadata": {},
   "outputs": [],
   "source": [
    "#Multiple linear regression -> predicting freshwater values from latitude and longitude\n",
    "X = lat_lon\n",
    "y = fw"
   ]
  },
  {
   "cell_type": "code",
   "execution_count": null,
   "id": "f8f02c9a",
   "metadata": {},
   "outputs": [],
   "source": [
    "#Split data into training (80%) and testing (20%) sets\n",
    "X_train, X_test, y_train, y_test = train_test_split(X, y, test_size = 0.2, random_state = 18)\n",
    "\n",
    "#Train model\n",
    "regr = linear_model.LinearRegression()\n",
    "regr.fit(X_train, y_train)\n",
    "\n",
    "#Test model\n",
    "y_pred_train = regr.predict(X_train)\n",
    "y_pred_test = regr.predict(X_test)\n",
    "\n",
    "#Error analysis for testing, print result\n",
    "mse_train = metrics.mean_squared_error(y_pred_train, y_train)\n",
    "print(f\"Mean Squared Error for Training Data: {mse_train}\")\n",
    "\n",
    "#Error analysis for testing, print result\n",
    "mse_test = metrics.mean_squared_error(y_pred_test, y_test)\n",
    "print(f\"Mean Squared Error for Testing Data: {mse_test}\")"
   ]
  },
  {
   "cell_type": "code",
   "execution_count": null,
   "id": "9d97b73c",
   "metadata": {},
   "outputs": [],
   "source": [
    "#Attempting to visualize multiple linear regression\n",
    "\n",
    "#Set axes for 3D plots\n",
    "x = X['latitude']\n",
    "y = X['longitude']\n",
    "z = y\n",
    "\n",
    "#Set ranges for x and y for meshgrid\n",
    "x_pred = np.linspace(3, 21, 30)   # range of porosity values\n",
    "y_pred = np.linspace(84, 92, 30)  # range of brittleness values\n",
    "xx_pred, yy_pred = np.meshgrid(x_pred, y_pred)\n",
    "model_viz = np.array([xx_pred.flatten(), yy_pred.flatten()]).T\n",
    "\n",
    "#Train model\n",
    "ols = linear_model.LinearRegression()\n",
    "model = ols.fit(X, y)\n",
    "predicted = model.predict(model_viz)\n",
    "\n",
    "#Collect coefficients and intercepts\n",
    "coeff = model.coef_\n",
    "lat_coeff = coeff[0]\n",
    "lon_coeff = coeff[1]\n",
    "intercept = model.intercept_\n",
    "\n",
    "#Evaluate\n",
    "r2 = model.score(X, y)\n",
    "\n",
    "#Create 3D plot\n",
    "plt.style.use('default')\n",
    "\n",
    "fig = plt.figure(figsize=(12, 4))\n",
    "\n",
    "ax1 = fig.add_subplot(131, projection='3d')\n",
    "ax2 = fig.add_subplot(132, projection='3d')\n",
    "ax3 = fig.add_subplot(133, projection='3d')\n",
    "\n",
    "axes = [ax1, ax2, ax3]\n",
    "\n",
    "for ax in axes:\n",
    "    ax.plot(x, y, z, color='k', zorder=15, linestyle='none', marker='o', alpha=0.5)\n",
    "    ax.scatter(xx_pred.flatten(), yy_pred.flatten(), predicted, facecolor=(0,0,0,0), s=20, edgecolor='#70b3f0')\n",
    "    ax.set_xlabel('Latitude (Degrees N)', fontsize=12)\n",
    "    ax.set_ylabel('Longitude (Degrees E)', fontsize=12)\n",
    "    ax.set_zlabel('Freshwater (ppt)', fontsize=12)\n",
    "    ax.locator_params(nbins=4, axis='x')\n",
    "    ax.locator_params(nbins=5, axis='x')\n",
    "\n",
    "ax1.text2D(0.2, 0.32, 'aegis4048.github.io', fontsize=13, ha='center', va='center',\n",
    "           transform=ax1.transAxes, color='grey', alpha=0.5)\n",
    "ax2.text2D(0.3, 0.42, 'aegis4048.github.io', fontsize=13, ha='center', va='center',\n",
    "           transform=ax2.transAxes, color='grey', alpha=0.5)\n",
    "ax3.text2D(0.85, 0.85, 'aegis4048.github.io', fontsize=13, ha='center', va='center',\n",
    "           transform=ax3.transAxes, color='grey', alpha=0.5)\n",
    "\n",
    "ax1.view_init(elev=28, azim=120)\n",
    "ax2.view_init(elev=4, azim=114)\n",
    "ax3.view_init(elev=60, azim=165)\n",
    "\n",
    "fig.suptitle('$R^2 = %.2f$' % r2, fontsize=20)\n",
    "\n",
    "fig.tight_layout()"
   ]
  },
  {
   "cell_type": "markdown",
   "id": "b4eec483",
   "metadata": {},
   "source": [
    "## Formulas for multiple linear regression"
   ]
  },
  {
   "cell_type": "markdown",
   "id": "8633e6b0",
   "metadata": {},
   "source": [
    "<h1><center>$\\hat{Y} = \\hat{\\beta}_{0} + \\sum \\limits _{j=1} ^{p} X_{j}\\hat{\\beta}_{j} $<h1><center>"
   ]
  },
  {
   "cell_type": "markdown",
   "id": "a13f39b9",
   "metadata": {},
   "source": [
    "<h1><center>$\\hat{Y} = \\hat{\\beta}_{0} + X_{1}\\hat{\\beta}_{1} + X_{2}\\hat{\\beta}_{2}$<h1><center>"
   ]
  },
  {
   "cell_type": "markdown",
   "id": "67c6625e",
   "metadata": {},
   "source": [
    "$\\hat{Y}$ = Predicted Freshwater Value (ppt)\n",
    "\n",
    "$\\hat{\\beta}_{0}$ = Intercept\n",
    "\n",
    "$X_{1}$ = Latitude Data (Degrees N)\n",
    "\n",
    "$\\hat{\\beta}_{1}$ = Latitude Coefficient\n",
    "\n",
    "$X_{2}$ = Longitude Data (Degrees E)\n",
    "\n",
    "$\\hat{\\beta}_{2}$ = Longitude Coefficient"
   ]
  },
  {
   "cell_type": "code",
   "execution_count": null,
   "id": "2c80eb3d",
   "metadata": {},
   "outputs": [],
   "source": [
    "print(f\"Intercept: {intercept}\")\n",
    "print(f\"Latitude Coefficient: {lat_coeff}\")\n",
    "print(f\"Longitude Coefficient: {lon_coeff}\")"
   ]
  },
  {
   "cell_type": "markdown",
   "id": "8f0b3051",
   "metadata": {},
   "source": [
    "# 7. Various Horizontal Mixing Coefficients <a name=\"various_kh\"></a>"
   ]
  },
  {
   "cell_type": "code",
   "execution_count": null,
   "id": "2215d566",
   "metadata": {},
   "outputs": [],
   "source": [
    "#Make list of rows and columns\n",
    "band_direction_idx = ['15 degree band SW', '15 degree band S', '15 degree band W', \n",
    "                      '10 degree band SW', '10 degree band S', '10 degree band W']\n",
    "depth_columns = ['0-300', '0-50', '50-100', '100-150', '150-200', '200-250', '250-300']\n",
    "\n",
    "#Create consolidated dataframe for annual values\n",
    "df_kh = pd.DataFrame(np.empty((6,7)), columns = depth_columns, index = band_direction_idx)\n",
    "df_kh.loc['15 degree band SW'] = df_15_sw_sv.loc['annual']\n",
    "df_kh.loc['15 degree band S'] = df_15_s_sv.loc['annual']\n",
    "df_kh.loc['15 degree band W'] = df_15_w_sv.loc['annual']\n",
    "df_kh.loc['10 degree band SW'] = df_10_sw_sv.loc['annual']\n",
    "df_kh.loc['10 degree band S'] = df_10_s_sv.loc['annual']\n",
    "df_kh.loc['10 degree band W'] = df_10_w_sv.loc['annual']\n",
    "\n",
    "#Set Kh value\n",
    "Kh = 1000\n",
    "print(f\"Horizontal mixing coefficient Kh = {Kh}\")\n",
    "df_kh"
   ]
  },
  {
   "cell_type": "code",
   "execution_count": null,
   "id": "3fce091d",
   "metadata": {},
   "outputs": [],
   "source": [
    "#Create dataframe for Kh = 2000\n",
    "new_Kh = 2000\n",
    "Kh_ratio = new_Kh / Kh\n",
    "\n",
    "print(f\"Horizontal mixing coefficient Kh = {new_Kh}\")\n",
    "df_kh_2000 = df_kh * Kh_ratio\n",
    "df_kh_2000"
   ]
  },
  {
   "cell_type": "code",
   "execution_count": null,
   "id": "02cfb403",
   "metadata": {},
   "outputs": [],
   "source": [
    "#Create dataframe for Kh = 5000\n",
    "new_Kh = 5000\n",
    "Kh_ratio = new_Kh / Kh\n",
    "\n",
    "print(f\"Horizontal mixing coefficient Kh = {new_Kh}\")\n",
    "df_kh_5000 = df_kh * Kh_ratio\n",
    "df_kh_5000"
   ]
  }
 ],
 "metadata": {
  "kernelspec": {
   "display_name": "Python [conda env:torch] *",
   "language": "python",
   "name": "conda-env-torch-py"
  },
  "language_info": {
   "codemirror_mode": {
    "name": "ipython",
    "version": 3
   },
   "file_extension": ".py",
   "mimetype": "text/x-python",
   "name": "python",
   "nbconvert_exporter": "python",
   "pygments_lexer": "ipython3",
   "version": "3.8.8"
  }
 },
 "nbformat": 4,
 "nbformat_minor": 5
}
